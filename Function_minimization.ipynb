{
 "cells": [
  {
   "cell_type": "code",
   "execution_count": 25,
   "id": "0ec7bc73-04d4-4a51-b446-3a33d24ac5fc",
   "metadata": {},
   "outputs": [],
   "source": [
    "import sympy as sp"
   ]
  },
  {
   "cell_type": "code",
   "execution_count": 28,
   "id": "59e06ff3-2722-4854-96b7-e9868fd58180",
   "metadata": {},
   "outputs": [],
   "source": [
    "x = sp.abc.symbols('x', real='True')\n",
    "def f(x):\n",
    "    return 3 * sp.cos(x) ** 2 - sp.sqrt(x)\n",
    "a, b = 0, 3"
   ]
  },
  {
   "cell_type": "code",
   "execution_count": 27,
   "id": "a8baff88-8fd6-426d-8c75-dd000f2d14cb",
   "metadata": {},
   "outputs": [
    {
     "data": {
      "text/latex": [
       "$\\displaystyle - \\sqrt{x} + 3 \\cos^{2}{\\left(x \\right)}$"
      ],
      "text/plain": [
       "-sqrt(x) + 3*cos(x)**2"
      ]
     },
     "execution_count": 27,
     "metadata": {},
     "output_type": "execute_result"
    }
   ],
   "source": [
    "f(x)"
   ]
  },
  {
   "cell_type": "code",
   "execution_count": null,
   "id": "5e7175d9-31d0-46e4-8d14-114d967c8458",
   "metadata": {},
   "outputs": [],
   "source": []
  }
 ],
 "metadata": {
  "kernelspec": {
   "display_name": "Python 3 (ipykernel)",
   "language": "python",
   "name": "python3"
  },
  "language_info": {
   "codemirror_mode": {
    "name": "ipython",
    "version": 3
   },
   "file_extension": ".py",
   "mimetype": "text/x-python",
   "name": "python",
   "nbconvert_exporter": "python",
   "pygments_lexer": "ipython3",
   "version": "3.11.5"
  }
 },
 "nbformat": 4,
 "nbformat_minor": 5
}
